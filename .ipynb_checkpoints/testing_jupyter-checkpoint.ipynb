{
 "cells": [
  {
   "cell_type": "code",
   "execution_count": 1,
   "id": "cc379779-0565-4872-a1bd-51627367db0e",
   "metadata": {},
   "outputs": [],
   "source": [
    "from sympy import *\n",
    "\n",
    "p, q, x, y, z, N = symbols('p q x y z N')\n",
    "zerop = symbols('0^+')"
   ]
  },
  {
   "cell_type": "code",
   "execution_count": 2,
   "id": "48514093-e402-435b-9db8-ad98b2144f08",
   "metadata": {},
   "outputs": [
    {
     "data": {
      "text/latex": [
       "$\\displaystyle 0^{+}$"
      ],
      "text/plain": [
       "0^+"
      ]
     },
     "execution_count": 2,
     "metadata": {},
     "output_type": "execute_result"
    }
   ],
   "source": [
    "zerop"
   ]
  },
  {
   "cell_type": "code",
   "execution_count": 15,
   "id": "8bde0737-7bd4-465a-9245-3788a1548f62",
   "metadata": {},
   "outputs": [],
   "source": [
    "def disc_old(expr, var) :\n",
    "    \n",
    "    upper_expr = expr.subs(var, var+I*zerop)\n",
    "    upper_expanded = series( upper_expr, zerop, 0, 3, '+').removeO()\n",
    "    print(_)\n",
    "\n",
    "    lower_expr = expr.subs(var, var-I*zerop)\n",
    "    lower_expanded = series( lower_expr, zerop, 0, 3, '+').removeO()\n",
    "    print(_)\n",
    "    \n",
    "    return (upper_expanded-lower_expanded) \n",
    "\n",
    "def disc(expr, var) :\n",
    "    \n",
    "    upper_expr = expr.subs(var, var+I*zerop)\n",
    "    upper_limit = limit( upper_expr, zerop, 0)\n",
    "    print(_)\n",
    "\n",
    "    lower_expr = expr.subs(var, var-I*zerop)\n",
    "    lower_limit = series( lower_expr, zerop, 0)\n",
    "    print(_)\n",
    "    \n",
    "    return (upper_expanded-lower_expanded) "
   ]
  },
  {
   "cell_type": "code",
   "execution_count": 4,
   "id": "a16b2229-6541-4914-928c-b90d598277dd",
   "metadata": {},
   "outputs": [
    {
     "data": {
      "text/latex": [
       "$\\displaystyle - \\frac{2 i 0^{+}}{z^{2}}$"
      ],
      "text/plain": [
       "-2*I*0^+/z**2"
      ]
     },
     "execution_count": 4,
     "metadata": {},
     "output_type": "execute_result"
    }
   ],
   "source": [
    "jfunc = 1/z\n",
    "cut = disc(jfunc,z)\n",
    "cut"
   ]
  },
  {
   "cell_type": "code",
   "execution_count": 22,
   "id": "fde8c6b8-ad15-456f-aaaf-947c6b9528b5",
   "metadata": {},
   "outputs": [
    {
     "data": {
      "text/latex": [
       "$\\displaystyle \\frac{i \\log{\\left(z - 1 \\right)}}{2 \\pi \\left(1 - z\\right)}$"
      ],
      "text/plain": [
       "I*log(z - 1)/(2*pi*(1 - z))"
      ]
     },
     "execution_count": 22,
     "metadata": {},
     "output_type": "execute_result"
    }
   ],
   "source": [
    "test_func = (I/2/pi)*log(z-1)/(1-z)\n",
    "test_func"
   ]
  },
  {
   "cell_type": "code",
   "execution_count": 24,
   "id": "c054e4ae-76d1-43c5-b45b-4eba9685e89e",
   "metadata": {},
   "outputs": [
    {
     "name": "stdout",
     "output_type": "stream",
     "text": [
      "-I*log(z - 1)/(2*pi*(z - 1))\n",
      "-I*log(z - 1)/(2*pi*(z - 1))\n"
     ]
    },
    {
     "data": {
      "text/latex": [
       "$\\displaystyle - \\frac{i \\log{\\left(z - 1 \\right)}}{2 \\pi \\left(z - 1\\right)}$"
      ],
      "text/plain": [
       "-I*log(z - 1)/(2*pi*(z - 1))"
      ]
     },
     "execution_count": 24,
     "metadata": {},
     "output_type": "execute_result"
    }
   ],
   "source": [
    "test_cut = disc(test_func,z)\n",
    "test_cut\n",
    "simplify(_)"
   ]
  },
  {
   "cell_type": "code",
   "execution_count": 35,
   "id": "fc39b80d-37bb-4ea2-a8e9-5856d970aaa1",
   "metadata": {},
   "outputs": [
    {
     "name": "stdout",
     "output_type": "stream",
     "text": [
      "I*log(-1.0*I*0^+ - 0.5)/(2*pi*(1.0*I*0^+ + 0.5))\n",
      "I*(-log(2) - I*pi)/pi\n"
     ]
    }
   ],
   "source": [
    "test_func_zerop = (I/2/pi)*log(z-1-I*zerop)/(1-z+I*zerop)\n",
    "a=limit(test_func_zerop, z, 1/2)\n",
    "print(a)\n",
    "b=limit(a, zerop, 0)\n",
    "print(b)"
   ]
  },
  {
   "cell_type": "code",
   "execution_count": 34,
   "id": "9bda88f7-0d74-4c5e-ae87-806ae968ef75",
   "metadata": {},
   "outputs": [
    {
     "name": "stdout",
     "output_type": "stream",
     "text": [
      "I*log(-1.0*I*0^+ + 0.5)/(2*pi*(1.0*I*0^+ - 0.5))\n",
      "I*log(2)/pi\n"
     ]
    }
   ],
   "source": [
    "test_func_zerop = (I/2/pi)*log(z-1-I*zerop)/(1-z+I*zerop)\n",
    "a=limit(test_func_zerop, z, 3/2)\n",
    "print(a)\n",
    "b=limit(a, zerop, 0)\n",
    "print(b)"
   ]
  },
  {
   "cell_type": "code",
   "execution_count": 5,
   "id": "c0cbec64-3cb0-4d42-a4ed-eaf9bfbc9680",
   "metadata": {},
   "outputs": [
    {
     "data": {
      "text/latex": [
       "$\\displaystyle \\frac{\\pi z^{2} \\left(\\frac{\\pi N^{2} \\left(- \\sin^{2}{\\left(\\frac{\\pi N}{z} \\right)} + \\cos^{2}{\\left(\\frac{\\pi N}{z} \\right)}\\right)}{z^{2}} + \\frac{2 N \\sin{\\left(\\frac{\\pi N}{z} \\right)} \\cos{\\left(\\frac{\\pi N}{z} \\right)}}{z^{3}} - \\pi \\sin^{2}{\\left(\\pi z \\right)} + \\pi \\cos^{2}{\\left(\\pi z \\right)}\\right)}{2 \\left(\\sin^{2}{\\left(\\pi z \\right)} + \\sin^{2}{\\left(\\frac{\\pi N}{z} \\right)}\\right)}$"
      ],
      "text/plain": [
       "pi*z**2*(pi*N**2*(-sin(pi*N/z)**2 + cos(pi*N/z)**2)/z**2 + 2*N*sin(pi*N/z)*cos(pi*N/z)/z**3 - pi*sin(pi*z)**2 + pi*cos(pi*z)**2)/(2*(sin(pi*z)**2 + sin(pi*N/z)**2))"
      ]
     },
     "execution_count": 5,
     "metadata": {},
     "output_type": "execute_result"
    }
   ],
   "source": [
    "numerator = pi*cos(pi*p)**2 - pi*sin(pi*p)**2 + (2*N/p**3)*sin(pi*q)*cos(pi*q) + pi*q**2*(cos(pi*q)**2 - sin(pi*q)**2)\n",
    "num_z = numerator.subs(p,z).subs(q,N/z)\n",
    "\n",
    "denominator = sin(pi*p)**2 + sin(pi*q)**2\n",
    "den_z = denominator.subs(p,z).subs(q,N/z)\n",
    "\n",
    "my_func = (z**2*pi/2)*num_z/den_z\n",
    "my_func"
   ]
  },
  {
   "cell_type": "code",
   "execution_count": 7,
   "id": "00825473-9e47-4663-bd01-d853e3c2682c",
   "metadata": {},
   "outputs": [
    {
     "data": {
      "text/latex": [
       "$\\displaystyle 0^{+} \\left(- \\frac{2 i \\pi^{3} N^{3} \\sin^{2}{\\left(\\pi z \\right)} \\sin{\\left(\\frac{\\pi N}{z} \\right)} \\cos{\\left(\\frac{\\pi N}{z} \\right)}}{z^{2} \\sin^{4}{\\left(\\pi z \\right)} + 2 z^{2} \\sin^{2}{\\left(\\pi z \\right)} \\sin^{2}{\\left(\\frac{\\pi N}{z} \\right)} + z^{2} \\sin^{4}{\\left(\\frac{\\pi N}{z} \\right)}} - \\frac{3 i \\pi^{3} N^{3} \\sin^{3}{\\left(\\frac{\\pi N}{z} \\right)} \\cos{\\left(\\frac{\\pi N}{z} \\right)}}{z^{2} \\sin^{4}{\\left(\\pi z \\right)} + 2 z^{2} \\sin^{2}{\\left(\\pi z \\right)} \\sin^{2}{\\left(\\frac{\\pi N}{z} \\right)} + z^{2} \\sin^{4}{\\left(\\frac{\\pi N}{z} \\right)}} + \\frac{i \\pi^{3} N^{3} \\sin{\\left(\\frac{\\pi N}{z} \\right)} \\cos^{3}{\\left(\\frac{\\pi N}{z} \\right)}}{z^{2} \\sin^{4}{\\left(\\pi z \\right)} + 2 z^{2} \\sin^{2}{\\left(\\pi z \\right)} \\sin^{2}{\\left(\\frac{\\pi N}{z} \\right)} + z^{2} \\sin^{4}{\\left(\\frac{\\pi N}{z} \\right)}} + \\frac{4 i \\pi^{3} N^{3} \\sin{\\left(\\frac{\\pi N}{z} \\right)} \\cos{\\left(\\frac{\\pi N}{z} \\right)}}{z^{2} \\sin^{2}{\\left(\\pi z \\right)} + z^{2} \\sin^{2}{\\left(\\frac{\\pi N}{z} \\right)}} + \\frac{i \\pi^{3} N^{2} \\sin{\\left(\\pi z \\right)} \\sin^{2}{\\left(\\frac{\\pi N}{z} \\right)} \\cos{\\left(\\pi z \\right)}}{\\sin^{4}{\\left(\\pi z \\right)} + 2 \\sin^{2}{\\left(\\pi z \\right)} \\sin^{2}{\\left(\\frac{\\pi N}{z} \\right)} + \\sin^{4}{\\left(\\frac{\\pi N}{z} \\right)}} - \\frac{i \\pi^{3} N^{2} \\sin{\\left(\\pi z \\right)} \\cos{\\left(\\pi z \\right)} \\cos^{2}{\\left(\\frac{\\pi N}{z} \\right)}}{\\sin^{4}{\\left(\\pi z \\right)} + 2 \\sin^{2}{\\left(\\pi z \\right)} \\sin^{2}{\\left(\\frac{\\pi N}{z} \\right)} + \\sin^{4}{\\left(\\frac{\\pi N}{z} \\right)}} - \\frac{i \\pi^{2} N^{2} \\sin^{2}{\\left(\\pi z \\right)} \\sin^{2}{\\left(\\frac{\\pi N}{z} \\right)}}{z^{3} \\sin^{4}{\\left(\\pi z \\right)} + 2 z^{3} \\sin^{2}{\\left(\\pi z \\right)} \\sin^{2}{\\left(\\frac{\\pi N}{z} \\right)} + z^{3} \\sin^{4}{\\left(\\frac{\\pi N}{z} \\right)}} + \\frac{i \\pi^{2} N^{2} \\sin^{2}{\\left(\\pi z \\right)} \\cos^{2}{\\left(\\frac{\\pi N}{z} \\right)}}{z^{3} \\sin^{4}{\\left(\\pi z \\right)} + 2 z^{3} \\sin^{2}{\\left(\\pi z \\right)} \\sin^{2}{\\left(\\frac{\\pi N}{z} \\right)} + z^{3} \\sin^{4}{\\left(\\frac{\\pi N}{z} \\right)}} - \\frac{i \\pi^{2} N^{2} \\sin^{4}{\\left(\\frac{\\pi N}{z} \\right)}}{z^{3} \\sin^{4}{\\left(\\pi z \\right)} + 2 z^{3} \\sin^{2}{\\left(\\pi z \\right)} \\sin^{2}{\\left(\\frac{\\pi N}{z} \\right)} + z^{3} \\sin^{4}{\\left(\\frac{\\pi N}{z} \\right)}} + \\frac{3 i \\pi^{2} N^{2} \\sin^{2}{\\left(\\frac{\\pi N}{z} \\right)} \\cos^{2}{\\left(\\frac{\\pi N}{z} \\right)}}{z^{3} \\sin^{4}{\\left(\\pi z \\right)} + 2 z^{3} \\sin^{2}{\\left(\\pi z \\right)} \\sin^{2}{\\left(\\frac{\\pi N}{z} \\right)} + z^{3} \\sin^{4}{\\left(\\frac{\\pi N}{z} \\right)}} + \\frac{2 i \\pi^{2} N^{2} \\sin^{2}{\\left(\\frac{\\pi N}{z} \\right)}}{z^{3} \\sin^{2}{\\left(\\pi z \\right)} + z^{3} \\sin^{2}{\\left(\\frac{\\pi N}{z} \\right)}} - \\frac{2 i \\pi^{2} N^{2} \\cos^{2}{\\left(\\frac{\\pi N}{z} \\right)}}{z^{3} \\sin^{2}{\\left(\\pi z \\right)} + z^{3} \\sin^{2}{\\left(\\frac{\\pi N}{z} \\right)}} - \\frac{i \\pi^{3} N z^{2} \\sin^{2}{\\left(\\pi z \\right)} \\sin{\\left(\\frac{\\pi N}{z} \\right)} \\cos{\\left(\\frac{\\pi N}{z} \\right)}}{z^{2} \\sin^{4}{\\left(\\pi z \\right)} + 2 z^{2} \\sin^{2}{\\left(\\pi z \\right)} \\sin^{2}{\\left(\\frac{\\pi N}{z} \\right)} + z^{2} \\sin^{4}{\\left(\\frac{\\pi N}{z} \\right)}} + \\frac{i \\pi^{3} N z^{2} \\sin{\\left(\\frac{\\pi N}{z} \\right)} \\cos^{2}{\\left(\\pi z \\right)} \\cos{\\left(\\frac{\\pi N}{z} \\right)}}{z^{2} \\sin^{4}{\\left(\\pi z \\right)} + 2 z^{2} \\sin^{2}{\\left(\\pi z \\right)} \\sin^{2}{\\left(\\frac{\\pi N}{z} \\right)} + z^{2} \\sin^{4}{\\left(\\frac{\\pi N}{z} \\right)}} + \\frac{i \\pi N \\sin^{2}{\\left(\\pi z \\right)} \\sin{\\left(\\frac{\\pi N}{z} \\right)} \\cos{\\left(\\frac{\\pi N}{z} \\right)}}{z^{2} \\sin^{4}{\\left(\\pi z \\right)} + 2 z^{2} \\sin^{2}{\\left(\\pi z \\right)} \\sin^{2}{\\left(\\frac{\\pi N}{z} \\right)} + z^{2} \\sin^{4}{\\left(\\frac{\\pi N}{z} \\right)}} + \\frac{i \\pi N \\sin^{3}{\\left(\\frac{\\pi N}{z} \\right)} \\cos{\\left(\\frac{\\pi N}{z} \\right)}}{z^{2} \\sin^{4}{\\left(\\pi z \\right)} + 2 z^{2} \\sin^{2}{\\left(\\pi z \\right)} \\sin^{2}{\\left(\\frac{\\pi N}{z} \\right)} + z^{2} \\sin^{4}{\\left(\\frac{\\pi N}{z} \\right)}} - \\frac{2 i \\pi^{2} N \\sin{\\left(\\pi z \\right)} \\sin{\\left(\\frac{\\pi N}{z} \\right)} \\cos{\\left(\\pi z \\right)} \\cos{\\left(\\frac{\\pi N}{z} \\right)}}{z \\sin^{4}{\\left(\\pi z \\right)} + 2 z \\sin^{2}{\\left(\\pi z \\right)} \\sin^{2}{\\left(\\frac{\\pi N}{z} \\right)} + z \\sin^{4}{\\left(\\frac{\\pi N}{z} \\right)}} - \\frac{2 i \\pi N \\sin{\\left(\\frac{\\pi N}{z} \\right)} \\cos{\\left(\\frac{\\pi N}{z} \\right)}}{z^{2} \\sin^{2}{\\left(\\pi z \\right)} + z^{2} \\sin^{2}{\\left(\\frac{\\pi N}{z} \\right)}} + \\frac{3 i \\pi^{3} z^{2} \\sin^{3}{\\left(\\pi z \\right)} \\cos{\\left(\\pi z \\right)}}{\\sin^{4}{\\left(\\pi z \\right)} + 2 \\sin^{2}{\\left(\\pi z \\right)} \\sin^{2}{\\left(\\frac{\\pi N}{z} \\right)} + \\sin^{4}{\\left(\\frac{\\pi N}{z} \\right)}} + \\frac{2 i \\pi^{3} z^{2} \\sin{\\left(\\pi z \\right)} \\sin^{2}{\\left(\\frac{\\pi N}{z} \\right)} \\cos{\\left(\\pi z \\right)}}{\\sin^{4}{\\left(\\pi z \\right)} + 2 \\sin^{2}{\\left(\\pi z \\right)} \\sin^{2}{\\left(\\frac{\\pi N}{z} \\right)} + \\sin^{4}{\\left(\\frac{\\pi N}{z} \\right)}} - \\frac{i \\pi^{3} z^{2} \\sin{\\left(\\pi z \\right)} \\cos^{3}{\\left(\\pi z \\right)}}{\\sin^{4}{\\left(\\pi z \\right)} + 2 \\sin^{2}{\\left(\\pi z \\right)} \\sin^{2}{\\left(\\frac{\\pi N}{z} \\right)} + \\sin^{4}{\\left(\\frac{\\pi N}{z} \\right)}} - \\frac{4 i \\pi^{3} z^{2} \\sin{\\left(\\pi z \\right)} \\cos{\\left(\\pi z \\right)}}{\\sin^{2}{\\left(\\pi z \\right)} + \\sin^{2}{\\left(\\frac{\\pi N}{z} \\right)}} + \\frac{i \\pi^{2} z \\sin^{4}{\\left(\\pi z \\right)}}{\\sin^{4}{\\left(\\pi z \\right)} + 2 \\sin^{2}{\\left(\\pi z \\right)} \\sin^{2}{\\left(\\frac{\\pi N}{z} \\right)} + \\sin^{4}{\\left(\\frac{\\pi N}{z} \\right)}} + \\frac{i \\pi^{2} z \\sin^{2}{\\left(\\pi z \\right)} \\sin^{2}{\\left(\\frac{\\pi N}{z} \\right)}}{\\sin^{4}{\\left(\\pi z \\right)} + 2 \\sin^{2}{\\left(\\pi z \\right)} \\sin^{2}{\\left(\\frac{\\pi N}{z} \\right)} + \\sin^{4}{\\left(\\frac{\\pi N}{z} \\right)}} - \\frac{i \\pi^{2} z \\sin^{2}{\\left(\\pi z \\right)} \\cos^{2}{\\left(\\pi z \\right)}}{\\sin^{4}{\\left(\\pi z \\right)} + 2 \\sin^{2}{\\left(\\pi z \\right)} \\sin^{2}{\\left(\\frac{\\pi N}{z} \\right)} + \\sin^{4}{\\left(\\frac{\\pi N}{z} \\right)}} - \\frac{i \\pi^{2} z \\sin^{2}{\\left(\\frac{\\pi N}{z} \\right)} \\cos^{2}{\\left(\\pi z \\right)}}{\\sin^{4}{\\left(\\pi z \\right)} + 2 \\sin^{2}{\\left(\\pi z \\right)} \\sin^{2}{\\left(\\frac{\\pi N}{z} \\right)} + \\sin^{4}{\\left(\\frac{\\pi N}{z} \\right)}} - \\frac{2 i \\pi^{2} z \\sin^{2}{\\left(\\pi z \\right)}}{\\sin^{2}{\\left(\\pi z \\right)} + \\sin^{2}{\\left(\\frac{\\pi N}{z} \\right)}} + \\frac{2 i \\pi^{2} z \\cos^{2}{\\left(\\pi z \\right)}}{\\sin^{2}{\\left(\\pi z \\right)} + \\sin^{2}{\\left(\\frac{\\pi N}{z} \\right)}}\\right) - 0^{+} \\left(\\frac{2 i \\pi^{3} N^{3} \\sin^{2}{\\left(\\pi z \\right)} \\sin{\\left(\\frac{\\pi N}{z} \\right)} \\cos{\\left(\\frac{\\pi N}{z} \\right)}}{z^{2} \\sin^{4}{\\left(\\pi z \\right)} + 2 z^{2} \\sin^{2}{\\left(\\pi z \\right)} \\sin^{2}{\\left(\\frac{\\pi N}{z} \\right)} + z^{2} \\sin^{4}{\\left(\\frac{\\pi N}{z} \\right)}} + \\frac{3 i \\pi^{3} N^{3} \\sin^{3}{\\left(\\frac{\\pi N}{z} \\right)} \\cos{\\left(\\frac{\\pi N}{z} \\right)}}{z^{2} \\sin^{4}{\\left(\\pi z \\right)} + 2 z^{2} \\sin^{2}{\\left(\\pi z \\right)} \\sin^{2}{\\left(\\frac{\\pi N}{z} \\right)} + z^{2} \\sin^{4}{\\left(\\frac{\\pi N}{z} \\right)}} - \\frac{i \\pi^{3} N^{3} \\sin{\\left(\\frac{\\pi N}{z} \\right)} \\cos^{3}{\\left(\\frac{\\pi N}{z} \\right)}}{z^{2} \\sin^{4}{\\left(\\pi z \\right)} + 2 z^{2} \\sin^{2}{\\left(\\pi z \\right)} \\sin^{2}{\\left(\\frac{\\pi N}{z} \\right)} + z^{2} \\sin^{4}{\\left(\\frac{\\pi N}{z} \\right)}} - \\frac{4 i \\pi^{3} N^{3} \\sin{\\left(\\frac{\\pi N}{z} \\right)} \\cos{\\left(\\frac{\\pi N}{z} \\right)}}{z^{2} \\sin^{2}{\\left(\\pi z \\right)} + z^{2} \\sin^{2}{\\left(\\frac{\\pi N}{z} \\right)}} - \\frac{i \\pi^{3} N^{2} \\sin{\\left(\\pi z \\right)} \\sin^{2}{\\left(\\frac{\\pi N}{z} \\right)} \\cos{\\left(\\pi z \\right)}}{\\sin^{4}{\\left(\\pi z \\right)} + 2 \\sin^{2}{\\left(\\pi z \\right)} \\sin^{2}{\\left(\\frac{\\pi N}{z} \\right)} + \\sin^{4}{\\left(\\frac{\\pi N}{z} \\right)}} + \\frac{i \\pi^{3} N^{2} \\sin{\\left(\\pi z \\right)} \\cos{\\left(\\pi z \\right)} \\cos^{2}{\\left(\\frac{\\pi N}{z} \\right)}}{\\sin^{4}{\\left(\\pi z \\right)} + 2 \\sin^{2}{\\left(\\pi z \\right)} \\sin^{2}{\\left(\\frac{\\pi N}{z} \\right)} + \\sin^{4}{\\left(\\frac{\\pi N}{z} \\right)}} + \\frac{i \\pi^{2} N^{2} \\sin^{2}{\\left(\\pi z \\right)} \\sin^{2}{\\left(\\frac{\\pi N}{z} \\right)}}{z^{3} \\sin^{4}{\\left(\\pi z \\right)} + 2 z^{3} \\sin^{2}{\\left(\\pi z \\right)} \\sin^{2}{\\left(\\frac{\\pi N}{z} \\right)} + z^{3} \\sin^{4}{\\left(\\frac{\\pi N}{z} \\right)}} - \\frac{i \\pi^{2} N^{2} \\sin^{2}{\\left(\\pi z \\right)} \\cos^{2}{\\left(\\frac{\\pi N}{z} \\right)}}{z^{3} \\sin^{4}{\\left(\\pi z \\right)} + 2 z^{3} \\sin^{2}{\\left(\\pi z \\right)} \\sin^{2}{\\left(\\frac{\\pi N}{z} \\right)} + z^{3} \\sin^{4}{\\left(\\frac{\\pi N}{z} \\right)}} + \\frac{i \\pi^{2} N^{2} \\sin^{4}{\\left(\\frac{\\pi N}{z} \\right)}}{z^{3} \\sin^{4}{\\left(\\pi z \\right)} + 2 z^{3} \\sin^{2}{\\left(\\pi z \\right)} \\sin^{2}{\\left(\\frac{\\pi N}{z} \\right)} + z^{3} \\sin^{4}{\\left(\\frac{\\pi N}{z} \\right)}} - \\frac{3 i \\pi^{2} N^{2} \\sin^{2}{\\left(\\frac{\\pi N}{z} \\right)} \\cos^{2}{\\left(\\frac{\\pi N}{z} \\right)}}{z^{3} \\sin^{4}{\\left(\\pi z \\right)} + 2 z^{3} \\sin^{2}{\\left(\\pi z \\right)} \\sin^{2}{\\left(\\frac{\\pi N}{z} \\right)} + z^{3} \\sin^{4}{\\left(\\frac{\\pi N}{z} \\right)}} - \\frac{2 i \\pi^{2} N^{2} \\sin^{2}{\\left(\\frac{\\pi N}{z} \\right)}}{z^{3} \\sin^{2}{\\left(\\pi z \\right)} + z^{3} \\sin^{2}{\\left(\\frac{\\pi N}{z} \\right)}} + \\frac{2 i \\pi^{2} N^{2} \\cos^{2}{\\left(\\frac{\\pi N}{z} \\right)}}{z^{3} \\sin^{2}{\\left(\\pi z \\right)} + z^{3} \\sin^{2}{\\left(\\frac{\\pi N}{z} \\right)}} + \\frac{i \\pi^{3} N z^{2} \\sin^{2}{\\left(\\pi z \\right)} \\sin{\\left(\\frac{\\pi N}{z} \\right)} \\cos{\\left(\\frac{\\pi N}{z} \\right)}}{z^{2} \\sin^{4}{\\left(\\pi z \\right)} + 2 z^{2} \\sin^{2}{\\left(\\pi z \\right)} \\sin^{2}{\\left(\\frac{\\pi N}{z} \\right)} + z^{2} \\sin^{4}{\\left(\\frac{\\pi N}{z} \\right)}} - \\frac{i \\pi^{3} N z^{2} \\sin{\\left(\\frac{\\pi N}{z} \\right)} \\cos^{2}{\\left(\\pi z \\right)} \\cos{\\left(\\frac{\\pi N}{z} \\right)}}{z^{2} \\sin^{4}{\\left(\\pi z \\right)} + 2 z^{2} \\sin^{2}{\\left(\\pi z \\right)} \\sin^{2}{\\left(\\frac{\\pi N}{z} \\right)} + z^{2} \\sin^{4}{\\left(\\frac{\\pi N}{z} \\right)}} - \\frac{i \\pi N \\sin^{2}{\\left(\\pi z \\right)} \\sin{\\left(\\frac{\\pi N}{z} \\right)} \\cos{\\left(\\frac{\\pi N}{z} \\right)}}{z^{2} \\sin^{4}{\\left(\\pi z \\right)} + 2 z^{2} \\sin^{2}{\\left(\\pi z \\right)} \\sin^{2}{\\left(\\frac{\\pi N}{z} \\right)} + z^{2} \\sin^{4}{\\left(\\frac{\\pi N}{z} \\right)}} - \\frac{i \\pi N \\sin^{3}{\\left(\\frac{\\pi N}{z} \\right)} \\cos{\\left(\\frac{\\pi N}{z} \\right)}}{z^{2} \\sin^{4}{\\left(\\pi z \\right)} + 2 z^{2} \\sin^{2}{\\left(\\pi z \\right)} \\sin^{2}{\\left(\\frac{\\pi N}{z} \\right)} + z^{2} \\sin^{4}{\\left(\\frac{\\pi N}{z} \\right)}} + \\frac{2 i \\pi^{2} N \\sin{\\left(\\pi z \\right)} \\sin{\\left(\\frac{\\pi N}{z} \\right)} \\cos{\\left(\\pi z \\right)} \\cos{\\left(\\frac{\\pi N}{z} \\right)}}{z \\sin^{4}{\\left(\\pi z \\right)} + 2 z \\sin^{2}{\\left(\\pi z \\right)} \\sin^{2}{\\left(\\frac{\\pi N}{z} \\right)} + z \\sin^{4}{\\left(\\frac{\\pi N}{z} \\right)}} + \\frac{2 i \\pi N \\sin{\\left(\\frac{\\pi N}{z} \\right)} \\cos{\\left(\\frac{\\pi N}{z} \\right)}}{z^{2} \\sin^{2}{\\left(\\pi z \\right)} + z^{2} \\sin^{2}{\\left(\\frac{\\pi N}{z} \\right)}} - \\frac{3 i \\pi^{3} z^{2} \\sin^{3}{\\left(\\pi z \\right)} \\cos{\\left(\\pi z \\right)}}{\\sin^{4}{\\left(\\pi z \\right)} + 2 \\sin^{2}{\\left(\\pi z \\right)} \\sin^{2}{\\left(\\frac{\\pi N}{z} \\right)} + \\sin^{4}{\\left(\\frac{\\pi N}{z} \\right)}} - \\frac{2 i \\pi^{3} z^{2} \\sin{\\left(\\pi z \\right)} \\sin^{2}{\\left(\\frac{\\pi N}{z} \\right)} \\cos{\\left(\\pi z \\right)}}{\\sin^{4}{\\left(\\pi z \\right)} + 2 \\sin^{2}{\\left(\\pi z \\right)} \\sin^{2}{\\left(\\frac{\\pi N}{z} \\right)} + \\sin^{4}{\\left(\\frac{\\pi N}{z} \\right)}} + \\frac{i \\pi^{3} z^{2} \\sin{\\left(\\pi z \\right)} \\cos^{3}{\\left(\\pi z \\right)}}{\\sin^{4}{\\left(\\pi z \\right)} + 2 \\sin^{2}{\\left(\\pi z \\right)} \\sin^{2}{\\left(\\frac{\\pi N}{z} \\right)} + \\sin^{4}{\\left(\\frac{\\pi N}{z} \\right)}} + \\frac{4 i \\pi^{3} z^{2} \\sin{\\left(\\pi z \\right)} \\cos{\\left(\\pi z \\right)}}{\\sin^{2}{\\left(\\pi z \\right)} + \\sin^{2}{\\left(\\frac{\\pi N}{z} \\right)}} - \\frac{i \\pi^{2} z \\sin^{4}{\\left(\\pi z \\right)}}{\\sin^{4}{\\left(\\pi z \\right)} + 2 \\sin^{2}{\\left(\\pi z \\right)} \\sin^{2}{\\left(\\frac{\\pi N}{z} \\right)} + \\sin^{4}{\\left(\\frac{\\pi N}{z} \\right)}} - \\frac{i \\pi^{2} z \\sin^{2}{\\left(\\pi z \\right)} \\sin^{2}{\\left(\\frac{\\pi N}{z} \\right)}}{\\sin^{4}{\\left(\\pi z \\right)} + 2 \\sin^{2}{\\left(\\pi z \\right)} \\sin^{2}{\\left(\\frac{\\pi N}{z} \\right)} + \\sin^{4}{\\left(\\frac{\\pi N}{z} \\right)}} + \\frac{i \\pi^{2} z \\sin^{2}{\\left(\\pi z \\right)} \\cos^{2}{\\left(\\pi z \\right)}}{\\sin^{4}{\\left(\\pi z \\right)} + 2 \\sin^{2}{\\left(\\pi z \\right)} \\sin^{2}{\\left(\\frac{\\pi N}{z} \\right)} + \\sin^{4}{\\left(\\frac{\\pi N}{z} \\right)}} + \\frac{i \\pi^{2} z \\sin^{2}{\\left(\\frac{\\pi N}{z} \\right)} \\cos^{2}{\\left(\\pi z \\right)}}{\\sin^{4}{\\left(\\pi z \\right)} + 2 \\sin^{2}{\\left(\\pi z \\right)} \\sin^{2}{\\left(\\frac{\\pi N}{z} \\right)} + \\sin^{4}{\\left(\\frac{\\pi N}{z} \\right)}} + \\frac{2 i \\pi^{2} z \\sin^{2}{\\left(\\pi z \\right)}}{\\sin^{2}{\\left(\\pi z \\right)} + \\sin^{2}{\\left(\\frac{\\pi N}{z} \\right)}} - \\frac{2 i \\pi^{2} z \\cos^{2}{\\left(\\pi z \\right)}}{\\sin^{2}{\\left(\\pi z \\right)} + \\sin^{2}{\\left(\\frac{\\pi N}{z} \\right)}}\\right)$"
      ],
      "text/plain": [
       "0^+*(-2*I*pi**3*N**3*sin(pi*z)**2*sin(pi*N/z)*cos(pi*N/z)/(z**2*sin(pi*z)**4 + 2*z**2*sin(pi*z)**2*sin(pi*N/z)**2 + z**2*sin(pi*N/z)**4) - 3*I*pi**3*N**3*sin(pi*N/z)**3*cos(pi*N/z)/(z**2*sin(pi*z)**4 + 2*z**2*sin(pi*z)**2*sin(pi*N/z)**2 + z**2*sin(pi*N/z)**4) + I*pi**3*N**3*sin(pi*N/z)*cos(pi*N/z)**3/(z**2*sin(pi*z)**4 + 2*z**2*sin(pi*z)**2*sin(pi*N/z)**2 + z**2*sin(pi*N/z)**4) + 4*I*pi**3*N**3*sin(pi*N/z)*cos(pi*N/z)/(z**2*sin(pi*z)**2 + z**2*sin(pi*N/z)**2) + I*pi**3*N**2*sin(pi*z)*sin(pi*N/z)**2*cos(pi*z)/(sin(pi*z)**4 + 2*sin(pi*z)**2*sin(pi*N/z)**2 + sin(pi*N/z)**4) - I*pi**3*N**2*sin(pi*z)*cos(pi*z)*cos(pi*N/z)**2/(sin(pi*z)**4 + 2*sin(pi*z)**2*sin(pi*N/z)**2 + sin(pi*N/z)**4) - I*pi**2*N**2*sin(pi*z)**2*sin(pi*N/z)**2/(z**3*sin(pi*z)**4 + 2*z**3*sin(pi*z)**2*sin(pi*N/z)**2 + z**3*sin(pi*N/z)**4) + I*pi**2*N**2*sin(pi*z)**2*cos(pi*N/z)**2/(z**3*sin(pi*z)**4 + 2*z**3*sin(pi*z)**2*sin(pi*N/z)**2 + z**3*sin(pi*N/z)**4) - I*pi**2*N**2*sin(pi*N/z)**4/(z**3*sin(pi*z)**4 + 2*z**3*sin(pi*z)**2*sin(pi*N/z)**2 + z**3*sin(pi*N/z)**4) + 3*I*pi**2*N**2*sin(pi*N/z)**2*cos(pi*N/z)**2/(z**3*sin(pi*z)**4 + 2*z**3*sin(pi*z)**2*sin(pi*N/z)**2 + z**3*sin(pi*N/z)**4) + 2*I*pi**2*N**2*sin(pi*N/z)**2/(z**3*sin(pi*z)**2 + z**3*sin(pi*N/z)**2) - 2*I*pi**2*N**2*cos(pi*N/z)**2/(z**3*sin(pi*z)**2 + z**3*sin(pi*N/z)**2) - I*pi**3*N*z**2*sin(pi*z)**2*sin(pi*N/z)*cos(pi*N/z)/(z**2*sin(pi*z)**4 + 2*z**2*sin(pi*z)**2*sin(pi*N/z)**2 + z**2*sin(pi*N/z)**4) + I*pi**3*N*z**2*sin(pi*N/z)*cos(pi*z)**2*cos(pi*N/z)/(z**2*sin(pi*z)**4 + 2*z**2*sin(pi*z)**2*sin(pi*N/z)**2 + z**2*sin(pi*N/z)**4) + I*pi*N*sin(pi*z)**2*sin(pi*N/z)*cos(pi*N/z)/(z**2*sin(pi*z)**4 + 2*z**2*sin(pi*z)**2*sin(pi*N/z)**2 + z**2*sin(pi*N/z)**4) + I*pi*N*sin(pi*N/z)**3*cos(pi*N/z)/(z**2*sin(pi*z)**4 + 2*z**2*sin(pi*z)**2*sin(pi*N/z)**2 + z**2*sin(pi*N/z)**4) - 2*I*pi**2*N*sin(pi*z)*sin(pi*N/z)*cos(pi*z)*cos(pi*N/z)/(z*sin(pi*z)**4 + 2*z*sin(pi*z)**2*sin(pi*N/z)**2 + z*sin(pi*N/z)**4) - 2*I*pi*N*sin(pi*N/z)*cos(pi*N/z)/(z**2*sin(pi*z)**2 + z**2*sin(pi*N/z)**2) + 3*I*pi**3*z**2*sin(pi*z)**3*cos(pi*z)/(sin(pi*z)**4 + 2*sin(pi*z)**2*sin(pi*N/z)**2 + sin(pi*N/z)**4) + 2*I*pi**3*z**2*sin(pi*z)*sin(pi*N/z)**2*cos(pi*z)/(sin(pi*z)**4 + 2*sin(pi*z)**2*sin(pi*N/z)**2 + sin(pi*N/z)**4) - I*pi**3*z**2*sin(pi*z)*cos(pi*z)**3/(sin(pi*z)**4 + 2*sin(pi*z)**2*sin(pi*N/z)**2 + sin(pi*N/z)**4) - 4*I*pi**3*z**2*sin(pi*z)*cos(pi*z)/(sin(pi*z)**2 + sin(pi*N/z)**2) + I*pi**2*z*sin(pi*z)**4/(sin(pi*z)**4 + 2*sin(pi*z)**2*sin(pi*N/z)**2 + sin(pi*N/z)**4) + I*pi**2*z*sin(pi*z)**2*sin(pi*N/z)**2/(sin(pi*z)**4 + 2*sin(pi*z)**2*sin(pi*N/z)**2 + sin(pi*N/z)**4) - I*pi**2*z*sin(pi*z)**2*cos(pi*z)**2/(sin(pi*z)**4 + 2*sin(pi*z)**2*sin(pi*N/z)**2 + sin(pi*N/z)**4) - I*pi**2*z*sin(pi*N/z)**2*cos(pi*z)**2/(sin(pi*z)**4 + 2*sin(pi*z)**2*sin(pi*N/z)**2 + sin(pi*N/z)**4) - 2*I*pi**2*z*sin(pi*z)**2/(sin(pi*z)**2 + sin(pi*N/z)**2) + 2*I*pi**2*z*cos(pi*z)**2/(sin(pi*z)**2 + sin(pi*N/z)**2)) - 0^+*(2*I*pi**3*N**3*sin(pi*z)**2*sin(pi*N/z)*cos(pi*N/z)/(z**2*sin(pi*z)**4 + 2*z**2*sin(pi*z)**2*sin(pi*N/z)**2 + z**2*sin(pi*N/z)**4) + 3*I*pi**3*N**3*sin(pi*N/z)**3*cos(pi*N/z)/(z**2*sin(pi*z)**4 + 2*z**2*sin(pi*z)**2*sin(pi*N/z)**2 + z**2*sin(pi*N/z)**4) - I*pi**3*N**3*sin(pi*N/z)*cos(pi*N/z)**3/(z**2*sin(pi*z)**4 + 2*z**2*sin(pi*z)**2*sin(pi*N/z)**2 + z**2*sin(pi*N/z)**4) - 4*I*pi**3*N**3*sin(pi*N/z)*cos(pi*N/z)/(z**2*sin(pi*z)**2 + z**2*sin(pi*N/z)**2) - I*pi**3*N**2*sin(pi*z)*sin(pi*N/z)**2*cos(pi*z)/(sin(pi*z)**4 + 2*sin(pi*z)**2*sin(pi*N/z)**2 + sin(pi*N/z)**4) + I*pi**3*N**2*sin(pi*z)*cos(pi*z)*cos(pi*N/z)**2/(sin(pi*z)**4 + 2*sin(pi*z)**2*sin(pi*N/z)**2 + sin(pi*N/z)**4) + I*pi**2*N**2*sin(pi*z)**2*sin(pi*N/z)**2/(z**3*sin(pi*z)**4 + 2*z**3*sin(pi*z)**2*sin(pi*N/z)**2 + z**3*sin(pi*N/z)**4) - I*pi**2*N**2*sin(pi*z)**2*cos(pi*N/z)**2/(z**3*sin(pi*z)**4 + 2*z**3*sin(pi*z)**2*sin(pi*N/z)**2 + z**3*sin(pi*N/z)**4) + I*pi**2*N**2*sin(pi*N/z)**4/(z**3*sin(pi*z)**4 + 2*z**3*sin(pi*z)**2*sin(pi*N/z)**2 + z**3*sin(pi*N/z)**4) - 3*I*pi**2*N**2*sin(pi*N/z)**2*cos(pi*N/z)**2/(z**3*sin(pi*z)**4 + 2*z**3*sin(pi*z)**2*sin(pi*N/z)**2 + z**3*sin(pi*N/z)**4) - 2*I*pi**2*N**2*sin(pi*N/z)**2/(z**3*sin(pi*z)**2 + z**3*sin(pi*N/z)**2) + 2*I*pi**2*N**2*cos(pi*N/z)**2/(z**3*sin(pi*z)**2 + z**3*sin(pi*N/z)**2) + I*pi**3*N*z**2*sin(pi*z)**2*sin(pi*N/z)*cos(pi*N/z)/(z**2*sin(pi*z)**4 + 2*z**2*sin(pi*z)**2*sin(pi*N/z)**2 + z**2*sin(pi*N/z)**4) - I*pi**3*N*z**2*sin(pi*N/z)*cos(pi*z)**2*cos(pi*N/z)/(z**2*sin(pi*z)**4 + 2*z**2*sin(pi*z)**2*sin(pi*N/z)**2 + z**2*sin(pi*N/z)**4) - I*pi*N*sin(pi*z)**2*sin(pi*N/z)*cos(pi*N/z)/(z**2*sin(pi*z)**4 + 2*z**2*sin(pi*z)**2*sin(pi*N/z)**2 + z**2*sin(pi*N/z)**4) - I*pi*N*sin(pi*N/z)**3*cos(pi*N/z)/(z**2*sin(pi*z)**4 + 2*z**2*sin(pi*z)**2*sin(pi*N/z)**2 + z**2*sin(pi*N/z)**4) + 2*I*pi**2*N*sin(pi*z)*sin(pi*N/z)*cos(pi*z)*cos(pi*N/z)/(z*sin(pi*z)**4 + 2*z*sin(pi*z)**2*sin(pi*N/z)**2 + z*sin(pi*N/z)**4) + 2*I*pi*N*sin(pi*N/z)*cos(pi*N/z)/(z**2*sin(pi*z)**2 + z**2*sin(pi*N/z)**2) - 3*I*pi**3*z**2*sin(pi*z)**3*cos(pi*z)/(sin(pi*z)**4 + 2*sin(pi*z)**2*sin(pi*N/z)**2 + sin(pi*N/z)**4) - 2*I*pi**3*z**2*sin(pi*z)*sin(pi*N/z)**2*cos(pi*z)/(sin(pi*z)**4 + 2*sin(pi*z)**2*sin(pi*N/z)**2 + sin(pi*N/z)**4) + I*pi**3*z**2*sin(pi*z)*cos(pi*z)**3/(sin(pi*z)**4 + 2*sin(pi*z)**2*sin(pi*N/z)**2 + sin(pi*N/z)**4) + 4*I*pi**3*z**2*sin(pi*z)*cos(pi*z)/(sin(pi*z)**2 + sin(pi*N/z)**2) - I*pi**2*z*sin(pi*z)**4/(sin(pi*z)**4 + 2*sin(pi*z)**2*sin(pi*N/z)**2 + sin(pi*N/z)**4) - I*pi**2*z*sin(pi*z)**2*sin(pi*N/z)**2/(sin(pi*z)**4 + 2*sin(pi*z)**2*sin(pi*N/z)**2 + sin(pi*N/z)**4) + I*pi**2*z*sin(pi*z)**2*cos(pi*z)**2/(sin(pi*z)**4 + 2*sin(pi*z)**2*sin(pi*N/z)**2 + sin(pi*N/z)**4) + I*pi**2*z*sin(pi*N/z)**2*cos(pi*z)**2/(sin(pi*z)**4 + 2*sin(pi*z)**2*sin(pi*N/z)**2 + sin(pi*N/z)**4) + 2*I*pi**2*z*sin(pi*z)**2/(sin(pi*z)**2 + sin(pi*N/z)**2) - 2*I*pi**2*z*cos(pi*z)**2/(sin(pi*z)**2 + sin(pi*N/z)**2))"
      ]
     },
     "execution_count": 7,
     "metadata": {},
     "output_type": "execute_result"
    }
   ],
   "source": [
    "my_cut = disc(my_func,z)\n",
    "my_cut"
   ]
  },
  {
   "cell_type": "code",
   "execution_count": 8,
   "id": "22ce3dd8-3daa-42a9-bac7-e9e5537eaa6c",
   "metadata": {},
   "outputs": [
    {
     "data": {
      "text/latex": [
       "$\\displaystyle \\frac{2 i \\pi 0^{+} \\left(- \\pi^{2} N^{3} z \\sin{\\left(\\pi \\left(\\frac{2 N}{z} - 2 z\\right) \\right)} - \\pi^{2} N^{3} z \\sin{\\left(\\pi \\left(\\frac{2 N}{z} + 2 z\\right) \\right)} + 4 \\pi^{2} N^{3} z \\sin{\\left(\\frac{2 \\pi N}{z} \\right)} + \\pi^{2} N^{2} z^{3} \\sin{\\left(\\pi \\left(\\frac{2 N}{z} - 2 z\\right) \\right)} - \\pi^{2} N^{2} z^{3} \\sin{\\left(\\pi \\left(\\frac{2 N}{z} + 2 z\\right) \\right)} + \\pi N^{2} \\cos{\\left(\\pi \\left(\\frac{2 N}{z} - 2 z\\right) \\right)} + \\pi N^{2} \\cos{\\left(\\pi \\left(\\frac{2 N}{z} + 2 z\\right) \\right)} - 4 \\pi N^{2} \\cos{\\left(\\frac{2 \\pi N}{z} \\right)} + 2 \\pi N^{2} + \\pi^{2} N z^{3} \\sin{\\left(\\pi \\left(\\frac{2 N}{z} - 2 z\\right) \\right)} + \\pi^{2} N z^{3} \\sin{\\left(\\pi \\left(\\frac{2 N}{z} + 2 z\\right) \\right)} - \\pi N z^{2} \\cos{\\left(\\pi \\left(\\frac{2 N}{z} - 2 z\\right) \\right)} + \\pi N z^{2} \\cos{\\left(\\pi \\left(\\frac{2 N}{z} + 2 z\\right) \\right)} + \\frac{N z \\sin{\\left(\\pi \\left(\\frac{2 N}{z} - 2 z\\right) \\right)}}{2} + \\frac{N z \\sin{\\left(\\pi \\left(\\frac{2 N}{z} + 2 z\\right) \\right)}}{2} - 2 N z \\sin{\\left(\\frac{2 \\pi N}{z} \\right)} + \\frac{N z \\sin{\\left(\\frac{4 \\pi N}{z} \\right)}}{2} - 4 \\pi^{2} z^{5} \\sin{\\left(2 \\pi z \\right)} - \\pi^{2} z^{5} \\sin{\\left(\\pi \\left(\\frac{2 N}{z} - 2 z\\right) \\right)} + \\pi^{2} z^{5} \\sin{\\left(\\pi \\left(\\frac{2 N}{z} + 2 z\\right) \\right)} - 2 \\pi z^{4} \\left(1 - \\cos{\\left(2 \\pi z \\right)}\\right)^{2} - \\pi z^{4} \\cos{\\left(\\pi \\left(\\frac{2 N}{z} - 2 z\\right) \\right)} - \\pi z^{4} \\cos{\\left(\\pi \\left(\\frac{2 N}{z} + 2 z\\right) \\right)} + 2 \\pi z^{4}\\right)}{z^{3} \\left(- \\cos{\\left(2 \\pi z \\right)} - \\cos{\\left(\\frac{2 \\pi N}{z} \\right)} + 2\\right)^{2}}$"
      ],
      "text/plain": [
       "2*I*pi*0^+*(-pi**2*N**3*z*sin(pi*(2*N/z - 2*z)) - pi**2*N**3*z*sin(pi*(2*N/z + 2*z)) + 4*pi**2*N**3*z*sin(2*pi*N/z) + pi**2*N**2*z**3*sin(pi*(2*N/z - 2*z)) - pi**2*N**2*z**3*sin(pi*(2*N/z + 2*z)) + pi*N**2*cos(pi*(2*N/z - 2*z)) + pi*N**2*cos(pi*(2*N/z + 2*z)) - 4*pi*N**2*cos(2*pi*N/z) + 2*pi*N**2 + pi**2*N*z**3*sin(pi*(2*N/z - 2*z)) + pi**2*N*z**3*sin(pi*(2*N/z + 2*z)) - pi*N*z**2*cos(pi*(2*N/z - 2*z)) + pi*N*z**2*cos(pi*(2*N/z + 2*z)) + N*z*sin(pi*(2*N/z - 2*z))/2 + N*z*sin(pi*(2*N/z + 2*z))/2 - 2*N*z*sin(2*pi*N/z) + N*z*sin(4*pi*N/z)/2 - 4*pi**2*z**5*sin(2*pi*z) - pi**2*z**5*sin(pi*(2*N/z - 2*z)) + pi**2*z**5*sin(pi*(2*N/z + 2*z)) - 2*pi*z**4*(1 - cos(2*pi*z))**2 - pi*z**4*cos(pi*(2*N/z - 2*z)) - pi*z**4*cos(pi*(2*N/z + 2*z)) + 2*pi*z**4)/(z**3*(-cos(2*pi*z) - cos(2*pi*N/z) + 2)**2)"
      ]
     },
     "execution_count": 8,
     "metadata": {},
     "output_type": "execute_result"
    }
   ],
   "source": [
    "simplify(my_cut)"
   ]
  },
  {
   "cell_type": "code",
   "execution_count": null,
   "id": "3a3a9db2-eb70-460e-9a72-de8e44b921a1",
   "metadata": {},
   "outputs": [],
   "source": []
  }
 ],
 "metadata": {
  "kernelspec": {
   "display_name": "Python 3 (ipykernel)",
   "language": "python",
   "name": "python3"
  },
  "language_info": {
   "codemirror_mode": {
    "name": "ipython",
    "version": 3
   },
   "file_extension": ".py",
   "mimetype": "text/x-python",
   "name": "python",
   "nbconvert_exporter": "python",
   "pygments_lexer": "ipython3",
   "version": "3.9.7"
  }
 },
 "nbformat": 4,
 "nbformat_minor": 5
}
